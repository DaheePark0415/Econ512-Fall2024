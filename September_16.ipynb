{
  "nbformat": 4,
  "nbformat_minor": 0,
  "metadata": {
    "colab": {
      "provenance": [],
      "authorship_tag": "ABX9TyPeWZQ54F+TUDB6PF+DjSPX",
      "include_colab_link": true
    },
    "kernelspec": {
      "name": "python3",
      "display_name": "Python 3"
    },
    "language_info": {
      "name": "python"
    }
  },
  "cells": [
    {
      "cell_type": "markdown",
      "metadata": {
        "id": "view-in-github",
        "colab_type": "text"
      },
      "source": [
        "<a href=\"https://colab.research.google.com/github/DaheePark0415/Econ512-Fall2024/blob/main/September_16.ipynb\" target=\"_parent\"><img src=\"https://colab.research.google.com/assets/colab-badge.svg\" alt=\"Open In Colab\"/></a>"
      ]
    },
    {
      "cell_type": "code",
      "execution_count": null,
      "metadata": {
        "id": "RUW0DWqOptXq"
      },
      "outputs": [],
      "source": [
        "#given parameters\n",
        "cutoff_parameter = 0.0\n",
        "bta_treatment_efect = 10.0\n",
        "N_sample_size = 1000\n",
        "\n",
        "#Simulate the heterogeous primitives\n",
        "X_running_variable = rnorm(N_sample_size, mean = 0, sd=1)\n",
        "epsilon_outcome_unobervable = X_running_variable +rnorm(N_sample_size, mean=0, sd=1)\n",
        "\n",
        "# assign the treated group\n",
        "D_treatment = X_running_variable >= cutoff_pararmeter\n",
        "Y_outcome_of_interest = beta_treatment_effect * D_treatment + epsilon_outcome_unobservable\n",
        "\n",
        "# combine the variables into a data table - data organizer\n",
        "library(data.table) # install.packages(\"data.table\")\n",
        "the_data_set = data.table( Y_outcome_of_interst, D_treatment, X_runnning_variable)\n"
      ]
    }
  ]
}